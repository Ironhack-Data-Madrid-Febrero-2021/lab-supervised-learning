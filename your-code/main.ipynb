{
 "cells": [
  {
   "cell_type": "markdown",
   "metadata": {},
   "source": [
    "# Before your start:\n",
    "- Read the README.md file\n",
    "- Comment as much as you can and use the resources in the README.md file\n",
    "- Happy learning!"
   ]
  },
  {
   "cell_type": "code",
   "execution_count": 19,
   "metadata": {},
   "outputs": [],
   "source": [
    "# Import your libraries:\n",
    "\n",
    "%matplotlib inline\n",
    "\n",
    "import numpy as np\n",
    "import pandas as pd\n",
    "import seaborn as sns\n",
    "from matplotlib import pyplot as plt\n"
   ]
  },
  {
   "cell_type": "markdown",
   "metadata": {},
   "source": [
    "In this lab, we will explore a dataset that describes websites with different features and labels them either benign or malicious . We will use supervised learning algorithms to figure out what feature patterns malicious websites are likely to have and use our model to predict malicious websites.\n",
    "\n",
    "# Challenge 1 - Explore The Dataset\n",
    "\n",
    "Let's start by exploring the dataset. First load the data file:"
   ]
  },
  {
   "cell_type": "code",
   "execution_count": 2,
   "metadata": {},
   "outputs": [],
   "source": [
    "websites = pd.read_csv('../website.csv')"
   ]
  },
  {
   "cell_type": "markdown",
   "metadata": {},
   "source": [
    "#### Explore the data from an bird's-eye view.\n",
    "\n",
    "You should already been very familiar with the procedures now so we won't provide the instructions step by step. Reflect on what you did in the previous labs and explore the dataset.\n",
    "\n",
    "Things you'll be looking for:\n",
    "\n",
    "* What the dataset looks like?\n",
    "* What are the data types?\n",
    "* Which columns contain the features of the websites?\n",
    "* Which column contains the feature we will predict? What is the code standing for benign vs malicious websites?\n",
    "* Do we need to transform any of the columns from categorical to ordinal values? If so what are these columns?\n",
    "\n",
    "Feel free to add additional cells for your explorations. Make sure to comment what you find out."
   ]
  },
  {
   "cell_type": "code",
   "execution_count": 9,
   "metadata": {},
   "outputs": [
    {
     "data": {
      "text/plain": [
       "(1781, 21)"
      ]
     },
     "execution_count": 9,
     "metadata": {},
     "output_type": "execute_result"
    }
   ],
   "source": [
    "websites.shape"
   ]
  },
  {
   "cell_type": "code",
   "execution_count": 26,
   "metadata": {
    "scrolled": true
   },
   "outputs": [
    {
     "data": {
      "text/html": [
       "<div>\n",
       "<style scoped>\n",
       "    .dataframe tbody tr th:only-of-type {\n",
       "        vertical-align: middle;\n",
       "    }\n",
       "\n",
       "    .dataframe tbody tr th {\n",
       "        vertical-align: top;\n",
       "    }\n",
       "\n",
       "    .dataframe thead th {\n",
       "        text-align: right;\n",
       "    }\n",
       "</style>\n",
       "<table border=\"1\" class=\"dataframe\">\n",
       "  <thead>\n",
       "    <tr style=\"text-align: right;\">\n",
       "      <th></th>\n",
       "      <th>URL</th>\n",
       "      <th>URL_LENGTH</th>\n",
       "      <th>NUMBER_SPECIAL_CHARACTERS</th>\n",
       "      <th>CHARSET</th>\n",
       "      <th>SERVER</th>\n",
       "      <th>CONTENT_LENGTH</th>\n",
       "      <th>WHOIS_COUNTRY</th>\n",
       "      <th>WHOIS_STATEPRO</th>\n",
       "      <th>WHOIS_REGDATE</th>\n",
       "      <th>WHOIS_UPDATED_DATE</th>\n",
       "      <th>...</th>\n",
       "      <th>DIST_REMOTE_TCP_PORT</th>\n",
       "      <th>REMOTE_IPS</th>\n",
       "      <th>APP_BYTES</th>\n",
       "      <th>SOURCE_APP_PACKETS</th>\n",
       "      <th>REMOTE_APP_PACKETS</th>\n",
       "      <th>SOURCE_APP_BYTES</th>\n",
       "      <th>REMOTE_APP_BYTES</th>\n",
       "      <th>APP_PACKETS</th>\n",
       "      <th>DNS_QUERY_TIMES</th>\n",
       "      <th>Type</th>\n",
       "    </tr>\n",
       "  </thead>\n",
       "  <tbody>\n",
       "    <tr>\n",
       "      <th>0</th>\n",
       "      <td>M0_109</td>\n",
       "      <td>16</td>\n",
       "      <td>7</td>\n",
       "      <td>iso-8859-1</td>\n",
       "      <td>nginx</td>\n",
       "      <td>263.0</td>\n",
       "      <td>None</td>\n",
       "      <td>None</td>\n",
       "      <td>10/10/2015 18:21</td>\n",
       "      <td>None</td>\n",
       "      <td>...</td>\n",
       "      <td>0</td>\n",
       "      <td>2</td>\n",
       "      <td>700</td>\n",
       "      <td>9</td>\n",
       "      <td>10</td>\n",
       "      <td>1153</td>\n",
       "      <td>832</td>\n",
       "      <td>9</td>\n",
       "      <td>2.0</td>\n",
       "      <td>1</td>\n",
       "    </tr>\n",
       "    <tr>\n",
       "      <th>1</th>\n",
       "      <td>B0_2314</td>\n",
       "      <td>16</td>\n",
       "      <td>6</td>\n",
       "      <td>UTF-8</td>\n",
       "      <td>Apache/2.4.10</td>\n",
       "      <td>15087.0</td>\n",
       "      <td>None</td>\n",
       "      <td>None</td>\n",
       "      <td>None</td>\n",
       "      <td>None</td>\n",
       "      <td>...</td>\n",
       "      <td>7</td>\n",
       "      <td>4</td>\n",
       "      <td>1230</td>\n",
       "      <td>17</td>\n",
       "      <td>19</td>\n",
       "      <td>1265</td>\n",
       "      <td>1230</td>\n",
       "      <td>17</td>\n",
       "      <td>0.0</td>\n",
       "      <td>0</td>\n",
       "    </tr>\n",
       "    <tr>\n",
       "      <th>2</th>\n",
       "      <td>B0_911</td>\n",
       "      <td>16</td>\n",
       "      <td>6</td>\n",
       "      <td>us-ascii</td>\n",
       "      <td>Microsoft-HTTPAPI/2.0</td>\n",
       "      <td>324.0</td>\n",
       "      <td>None</td>\n",
       "      <td>None</td>\n",
       "      <td>None</td>\n",
       "      <td>None</td>\n",
       "      <td>...</td>\n",
       "      <td>0</td>\n",
       "      <td>0</td>\n",
       "      <td>0</td>\n",
       "      <td>0</td>\n",
       "      <td>0</td>\n",
       "      <td>0</td>\n",
       "      <td>0</td>\n",
       "      <td>0</td>\n",
       "      <td>0.0</td>\n",
       "      <td>0</td>\n",
       "    </tr>\n",
       "    <tr>\n",
       "      <th>3</th>\n",
       "      <td>B0_113</td>\n",
       "      <td>17</td>\n",
       "      <td>6</td>\n",
       "      <td>ISO-8859-1</td>\n",
       "      <td>nginx</td>\n",
       "      <td>162.0</td>\n",
       "      <td>US</td>\n",
       "      <td>AK</td>\n",
       "      <td>7/10/1997 4:00</td>\n",
       "      <td>12/09/2013 0:45</td>\n",
       "      <td>...</td>\n",
       "      <td>22</td>\n",
       "      <td>3</td>\n",
       "      <td>3812</td>\n",
       "      <td>39</td>\n",
       "      <td>37</td>\n",
       "      <td>18784</td>\n",
       "      <td>4380</td>\n",
       "      <td>39</td>\n",
       "      <td>8.0</td>\n",
       "      <td>0</td>\n",
       "    </tr>\n",
       "    <tr>\n",
       "      <th>4</th>\n",
       "      <td>B0_403</td>\n",
       "      <td>17</td>\n",
       "      <td>6</td>\n",
       "      <td>UTF-8</td>\n",
       "      <td>None</td>\n",
       "      <td>124140.0</td>\n",
       "      <td>US</td>\n",
       "      <td>TX</td>\n",
       "      <td>12/05/1996 0:00</td>\n",
       "      <td>11/04/2017 0:00</td>\n",
       "      <td>...</td>\n",
       "      <td>2</td>\n",
       "      <td>5</td>\n",
       "      <td>4278</td>\n",
       "      <td>61</td>\n",
       "      <td>62</td>\n",
       "      <td>129889</td>\n",
       "      <td>4586</td>\n",
       "      <td>61</td>\n",
       "      <td>4.0</td>\n",
       "      <td>0</td>\n",
       "    </tr>\n",
       "    <tr>\n",
       "      <th>5</th>\n",
       "      <td>B0_2064</td>\n",
       "      <td>18</td>\n",
       "      <td>7</td>\n",
       "      <td>UTF-8</td>\n",
       "      <td>nginx</td>\n",
       "      <td>NaN</td>\n",
       "      <td>SC</td>\n",
       "      <td>Mahe</td>\n",
       "      <td>3/08/2016 14:30</td>\n",
       "      <td>3/10/2016 3:45</td>\n",
       "      <td>...</td>\n",
       "      <td>6</td>\n",
       "      <td>9</td>\n",
       "      <td>894</td>\n",
       "      <td>11</td>\n",
       "      <td>13</td>\n",
       "      <td>838</td>\n",
       "      <td>894</td>\n",
       "      <td>11</td>\n",
       "      <td>0.0</td>\n",
       "      <td>0</td>\n",
       "    </tr>\n",
       "    <tr>\n",
       "      <th>6</th>\n",
       "      <td>B0_462</td>\n",
       "      <td>18</td>\n",
       "      <td>6</td>\n",
       "      <td>iso-8859-1</td>\n",
       "      <td>Apache/2</td>\n",
       "      <td>345.0</td>\n",
       "      <td>US</td>\n",
       "      <td>CO</td>\n",
       "      <td>29/07/2002 0:00</td>\n",
       "      <td>1/07/2016 0:00</td>\n",
       "      <td>...</td>\n",
       "      <td>0</td>\n",
       "      <td>3</td>\n",
       "      <td>1189</td>\n",
       "      <td>14</td>\n",
       "      <td>13</td>\n",
       "      <td>8559</td>\n",
       "      <td>1327</td>\n",
       "      <td>14</td>\n",
       "      <td>2.0</td>\n",
       "      <td>0</td>\n",
       "    </tr>\n",
       "  </tbody>\n",
       "</table>\n",
       "<p>7 rows × 21 columns</p>\n",
       "</div>"
      ],
      "text/plain": [
       "       URL  URL_LENGTH  NUMBER_SPECIAL_CHARACTERS     CHARSET  \\\n",
       "0   M0_109          16                          7  iso-8859-1   \n",
       "1  B0_2314          16                          6       UTF-8   \n",
       "2   B0_911          16                          6    us-ascii   \n",
       "3   B0_113          17                          6  ISO-8859-1   \n",
       "4   B0_403          17                          6       UTF-8   \n",
       "5  B0_2064          18                          7       UTF-8   \n",
       "6   B0_462          18                          6  iso-8859-1   \n",
       "\n",
       "                  SERVER  CONTENT_LENGTH WHOIS_COUNTRY WHOIS_STATEPRO  \\\n",
       "0                  nginx           263.0          None           None   \n",
       "1          Apache/2.4.10         15087.0          None           None   \n",
       "2  Microsoft-HTTPAPI/2.0           324.0          None           None   \n",
       "3                  nginx           162.0            US             AK   \n",
       "4                   None        124140.0            US             TX   \n",
       "5                  nginx             NaN            SC           Mahe   \n",
       "6               Apache/2           345.0            US             CO   \n",
       "\n",
       "      WHOIS_REGDATE WHOIS_UPDATED_DATE  ...  DIST_REMOTE_TCP_PORT  REMOTE_IPS  \\\n",
       "0  10/10/2015 18:21               None  ...                     0           2   \n",
       "1              None               None  ...                     7           4   \n",
       "2              None               None  ...                     0           0   \n",
       "3    7/10/1997 4:00    12/09/2013 0:45  ...                    22           3   \n",
       "4   12/05/1996 0:00    11/04/2017 0:00  ...                     2           5   \n",
       "5   3/08/2016 14:30     3/10/2016 3:45  ...                     6           9   \n",
       "6   29/07/2002 0:00     1/07/2016 0:00  ...                     0           3   \n",
       "\n",
       "   APP_BYTES  SOURCE_APP_PACKETS  REMOTE_APP_PACKETS  SOURCE_APP_BYTES  \\\n",
       "0        700                   9                  10              1153   \n",
       "1       1230                  17                  19              1265   \n",
       "2          0                   0                   0                 0   \n",
       "3       3812                  39                  37             18784   \n",
       "4       4278                  61                  62            129889   \n",
       "5        894                  11                  13               838   \n",
       "6       1189                  14                  13              8559   \n",
       "\n",
       "   REMOTE_APP_BYTES  APP_PACKETS  DNS_QUERY_TIMES  Type  \n",
       "0               832            9              2.0     1  \n",
       "1              1230           17              0.0     0  \n",
       "2                 0            0              0.0     0  \n",
       "3              4380           39              8.0     0  \n",
       "4              4586           61              4.0     0  \n",
       "5               894           11              0.0     0  \n",
       "6              1327           14              2.0     0  \n",
       "\n",
       "[7 rows x 21 columns]"
      ]
     },
     "execution_count": 26,
     "metadata": {},
     "output_type": "execute_result"
    }
   ],
   "source": [
    "websites.head(7)"
   ]
  },
  {
   "cell_type": "code",
   "execution_count": 8,
   "metadata": {},
   "outputs": [
    {
     "data": {
      "text/plain": [
       "Index(['URL', 'URL_LENGTH', 'NUMBER_SPECIAL_CHARACTERS', 'CHARSET', 'SERVER',\n",
       "       'CONTENT_LENGTH', 'WHOIS_COUNTRY', 'WHOIS_STATEPRO', 'WHOIS_REGDATE',\n",
       "       'WHOIS_UPDATED_DATE', 'TCP_CONVERSATION_EXCHANGE',\n",
       "       'DIST_REMOTE_TCP_PORT', 'REMOTE_IPS', 'APP_BYTES', 'SOURCE_APP_PACKETS',\n",
       "       'REMOTE_APP_PACKETS', 'SOURCE_APP_BYTES', 'REMOTE_APP_BYTES',\n",
       "       'APP_PACKETS', 'DNS_QUERY_TIMES', 'Type'],\n",
       "      dtype='object')"
      ]
     },
     "execution_count": 8,
     "metadata": {},
     "output_type": "execute_result"
    }
   ],
   "source": [
    "websites.columns"
   ]
  },
  {
   "cell_type": "code",
   "execution_count": 4,
   "metadata": {},
   "outputs": [
    {
     "data": {
      "text/plain": [
       "URL                           object\n",
       "URL_LENGTH                     int64\n",
       "NUMBER_SPECIAL_CHARACTERS      int64\n",
       "CHARSET                       object\n",
       "SERVER                        object\n",
       "CONTENT_LENGTH               float64\n",
       "WHOIS_COUNTRY                 object\n",
       "WHOIS_STATEPRO                object\n",
       "WHOIS_REGDATE                 object\n",
       "WHOIS_UPDATED_DATE            object\n",
       "TCP_CONVERSATION_EXCHANGE      int64\n",
       "DIST_REMOTE_TCP_PORT           int64\n",
       "REMOTE_IPS                     int64\n",
       "APP_BYTES                      int64\n",
       "SOURCE_APP_PACKETS             int64\n",
       "REMOTE_APP_PACKETS             int64\n",
       "SOURCE_APP_BYTES               int64\n",
       "REMOTE_APP_BYTES               int64\n",
       "APP_PACKETS                    int64\n",
       "DNS_QUERY_TIMES              float64\n",
       "Type                           int64\n",
       "dtype: object"
      ]
     },
     "execution_count": 4,
     "metadata": {},
     "output_type": "execute_result"
    }
   ],
   "source": [
    "websites.dtypes"
   ]
  },
  {
   "cell_type": "code",
   "execution_count": 33,
   "metadata": {
    "scrolled": true
   },
   "outputs": [
    {
     "name": "stderr",
     "output_type": "stream",
     "text": [
      "/Users/isabelalantero/miniconda3/lib/python3.9/site-packages/seaborn/_decorators.py:36: FutureWarning: Pass the following variable as a keyword arg: x. From version 0.12, the only valid positional argument will be `data`, and passing other arguments without an explicit keyword will result in an error or misinterpretation.\n",
      "  warnings.warn(\n"
     ]
    },
    {
     "data": {
      "text/plain": [
       "<AxesSubplot:xlabel='Type', ylabel='count'>"
      ]
     },
     "execution_count": 33,
     "metadata": {},
     "output_type": "execute_result"
    },
    {
     "data": {
      "image/png": "[encoded data removed]",
      "text/plain": [
       "<Figure size 432x288 with 1 Axes>"
      ]
     },
     "metadata": {
      "needs_background": "light"
     },
     "output_type": "display_data"
    }
   ],
   "source": [
    "sns.countplot(websites['Type'])"
   ]
  },
  {
   "cell_type": "code",
   "execution_count": 38,
   "metadata": {},
   "outputs": [],
   "source": [
    "benign = []\n",
    "malicious = []\n",
    "\n",
    "for i in websites['Type']:\n",
    "    if i==0:\n",
    "        malicious.append(i)\n",
    "    elif i ==1:\n",
    "        benign.append(i)"
   ]
  },
  {
   "cell_type": "code",
   "execution_count": 47,
   "metadata": {},
   "outputs": [
    {
     "name": "stdout",
     "output_type": "stream",
     "text": [
      "total beningns 216 vs. total malicious 1565\n"
     ]
    }
   ],
   "source": [
    "print(\"total beningns\",len(benign), \"vs. total malicious\", len(malicious))"
   ]
  },
  {
   "cell_type": "code",
   "execution_count": 48,
   "metadata": {},
   "outputs": [
    {
     "data": {
      "text/plain": [
       "True"
      ]
     },
     "execution_count": 48,
     "metadata": {},
     "output_type": "execute_result"
    }
   ],
   "source": [
    "len(malicious)+len(benign)==len(websites)"
   ]
  },
  {
   "cell_type": "code",
   "execution_count": 53,
   "metadata": {},
   "outputs": [
    {
     "name": "stdout",
     "output_type": "stream",
     "text": [
      "87.87 % malicious websites\n",
      "12.13 % benign websites\n"
     ]
    }
   ],
   "source": [
    "print(round((len(malicious)/len(websites)*100),2),\"% malicious websites\")\n",
    "print(round((len(benign)/len(websites)*100),2),\"% benign websites\")"
   ]
  },
  {
   "cell_type": "code",
   "execution_count": null,
   "metadata": {},
   "outputs": [],
   "source": [
    "# Which columns contain the features of the websites?\n",
    "'all columns exept type'\n",
    "# Which column contains the feature we will predict? \n",
    "'type'\n",
    "# What is the code standing for benign vs malicious websites?\n",
    "'there are two types of websites: malicious (which gain total access to your machine)=0 and benign (which are safer)=1'\n",
    "# Do we need to transform any of the columns from categorical to ordinal values? \n",
    "'There are a few object variables that are not compatible with machine learning procedures'\n",
    "# If so what are these columns?\n",
    "'URL''CHARSET''SERVER''WHOIS_COUNTRY''WHOIS_STATEPRO''WHOIS_REGDATE''WHOIS_UPDATED_DATE'"
   ]
  },
  {
   "cell_type": "code",
   "execution_count": 62,
   "metadata": {},
   "outputs": [],
   "source": [
    "%%capture\n",
    "column_list = ['URL','CHARSET','SERVER','WHOIS_COUNTRY','WHOIS_STATEPRO','WHOIS_REGDATE','WHOIS_UPDATED_DATE']\n",
    "for column_name in column_list:\n",
    "      print(websites[column_name].unique())"
   ]
  },
  {
   "cell_type": "markdown",
   "metadata": {},
   "source": [
    "#### Next, evaluate if the columns in this dataset are strongly correlated.\n",
    "\n",
    "In the Mushroom supervised learning lab we did recently, we mentioned we are concerned if our dataset has strongly correlated columns because if it is the case we need to choose certain ML algorithms instead of others. We need to evaluate this for our dataset now.\n",
    "\n",
    "Luckily, most of the columns in this dataset are ordinal which makes things a lot easier for us. In the next cells below, evaluate the level of collinearity of the data.\n",
    "\n",
    "We provide some general directions for you to consult in order to complete this step:\n",
    "\n",
    "1. You will create a correlation matrix using the numeric columns in the dataset.\n",
    "\n",
    "1. Create a heatmap using `seaborn` to visualize which columns have high collinearity.\n",
    "\n",
    "1. Comment on which columns you might need to remove due to high collinearity."
   ]
  },
  {
   "cell_type": "code",
   "execution_count": 23,
   "metadata": {
    "scrolled": false
   },
   "outputs": [
    {
     "data": {
      "image/png": "[encoded data removed]",
      "text/plain": [
       "<Figure size 1152x360 with 2 Axes>"
      ]
     },
     "metadata": {
      "needs_background": "light"
     },
     "output_type": "display_data"
    }
   ],
   "source": [
    "# Your code here\n",
    "plt.figure(figsize = (16,5))\n",
    "\n",
    "ax = sns.heatmap(websites.corr(), annot=True, linewidths=.5, cmap=\"YlGnBu\")"
   ]
  },
  {
   "cell_type": "code",
   "execution_count": null,
   "metadata": {},
   "outputs": [],
   "source": [
    "# creo que no tiene ningún sentido mirar correlaciones si las variables categoricas están siendo ignoradas no??"
   ]
  },
  {
   "cell_type": "code",
   "execution_count": 130,
   "metadata": {},
   "outputs": [],
   "source": [
    "no_se_mirar_un_heatmap = []\n",
    "for i in websites.corr().abs():\n",
    "    if i != 1.0:\n",
    "        no_se_mirar_un_heatmap.append(websites.corr().abs()[i])"
   ]
  },
  {
   "cell_type": "code",
   "execution_count": 129,
   "metadata": {},
   "outputs": [
    {
     "data": {
      "text/plain": [
       "[URL_LENGTH                   1.000000\n",
       " NUMBER_SPECIAL_CHARACTERS    0.917986\n",
       " CONTENT_LENGTH               0.129745\n",
       " TCP_CONVERSATION_EXCHANGE    0.038407\n",
       " DIST_REMOTE_TCP_PORT         0.039839\n",
       " REMOTE_IPS                   0.046367\n",
       " APP_BYTES                    0.026446\n",
       " SOURCE_APP_PACKETS           0.042264\n",
       " REMOTE_APP_PACKETS           0.033779\n",
       " SOURCE_APP_BYTES             0.014857\n",
       " REMOTE_APP_BYTES             0.026686\n",
       " APP_PACKETS                  0.042264\n",
       " DNS_QUERY_TIMES              0.068582\n",
       " Type                         0.162104\n",
       " Name: URL_LENGTH, dtype: float64,\n",
       " URL_LENGTH                   0.917986\n",
       " NUMBER_SPECIAL_CHARACTERS    1.000000\n",
       " CONTENT_LENGTH               0.214225\n",
       " TCP_CONVERSATION_EXCHANGE    0.037459\n",
       " DIST_REMOTE_TCP_PORT         0.042619\n",
       " REMOTE_IPS                   0.047103\n",
       " APP_BYTES                    0.023914\n",
       " SOURCE_APP_PACKETS           0.040096\n",
       " REMOTE_APP_PACKETS           0.030597\n",
       " SOURCE_APP_BYTES             0.014376\n",
       " REMOTE_APP_BYTES             0.024098\n",
       " APP_PACKETS                  0.040096\n",
       " DNS_QUERY_TIMES              0.050048\n",
       " Type                         0.280897\n",
       " Name: NUMBER_SPECIAL_CHARACTERS, dtype: float64,\n",
       " URL_LENGTH                   0.129745\n",
       " NUMBER_SPECIAL_CHARACTERS    0.214225\n",
       " CONTENT_LENGTH               1.000000\n",
       " TCP_CONVERSATION_EXCHANGE    0.078451\n",
       " DIST_REMOTE_TCP_PORT         0.000381\n",
       " REMOTE_IPS                   0.004774\n",
       " APP_BYTES                    0.051202\n",
       " SOURCE_APP_PACKETS           0.074142\n",
       " REMOTE_APP_PACKETS           0.091077\n",
       " SOURCE_APP_BYTES             0.100094\n",
       " REMOTE_APP_BYTES             0.047595\n",
       " APP_PACKETS                  0.074142\n",
       " DNS_QUERY_TIMES              0.045644\n",
       " Type                         0.090852\n",
       " Name: CONTENT_LENGTH, dtype: float64,\n",
       " URL_LENGTH                   0.038407\n",
       " NUMBER_SPECIAL_CHARACTERS    0.037459\n",
       " CONTENT_LENGTH               0.078451\n",
       " TCP_CONVERSATION_EXCHANGE    1.000000\n",
       " DIST_REMOTE_TCP_PORT         0.555188\n",
       " REMOTE_IPS                   0.331080\n",
       " APP_BYTES                    0.457320\n",
       " SOURCE_APP_PACKETS           0.997796\n",
       " REMOTE_APP_PACKETS           0.990848\n",
       " SOURCE_APP_BYTES             0.865580\n",
       " REMOTE_APP_BYTES             0.458702\n",
       " APP_PACKETS                  0.997796\n",
       " DNS_QUERY_TIMES              0.349832\n",
       " Type                         0.040202\n",
       " Name: TCP_CONVERSATION_EXCHANGE, dtype: float64,\n",
       " URL_LENGTH                   0.039839\n",
       " NUMBER_SPECIAL_CHARACTERS    0.042619\n",
       " CONTENT_LENGTH               0.000381\n",
       " TCP_CONVERSATION_EXCHANGE    0.555188\n",
       " DIST_REMOTE_TCP_PORT         1.000000\n",
       " REMOTE_IPS                   0.210188\n",
       " APP_BYTES                    0.780238\n",
       " SOURCE_APP_PACKETS           0.558612\n",
       " REMOTE_APP_PACKETS           0.591188\n",
       " SOURCE_APP_BYTES             0.313359\n",
       " REMOTE_APP_BYTES             0.781212\n",
       " APP_PACKETS                  0.558612\n",
       " DNS_QUERY_TIMES              0.259942\n",
       " Type                         0.082925\n",
       " Name: DIST_REMOTE_TCP_PORT, dtype: float64,\n",
       " URL_LENGTH                   0.046367\n",
       " NUMBER_SPECIAL_CHARACTERS    0.047103\n",
       " CONTENT_LENGTH               0.004774\n",
       " TCP_CONVERSATION_EXCHANGE    0.331080\n",
       " DIST_REMOTE_TCP_PORT         0.210188\n",
       " REMOTE_IPS                   1.000000\n",
       " APP_BYTES                    0.023126\n",
       " SOURCE_APP_PACKETS           0.361104\n",
       " REMOTE_APP_PACKETS           0.304683\n",
       " SOURCE_APP_BYTES             0.171651\n",
       " REMOTE_APP_BYTES             0.025324\n",
       " APP_PACKETS                  0.361104\n",
       " DNS_QUERY_TIMES              0.548189\n",
       " Type                         0.078783\n",
       " Name: REMOTE_IPS, dtype: float64,\n",
       " URL_LENGTH                   0.026446\n",
       " NUMBER_SPECIAL_CHARACTERS    0.023914\n",
       " CONTENT_LENGTH               0.051202\n",
       " TCP_CONVERSATION_EXCHANGE    0.457320\n",
       " DIST_REMOTE_TCP_PORT         0.780238\n",
       " REMOTE_IPS                   0.023126\n",
       " APP_BYTES                    1.000000\n",
       " SOURCE_APP_PACKETS           0.445822\n",
       " REMOTE_APP_PACKETS           0.468999\n",
       " SOURCE_APP_BYTES             0.074464\n",
       " REMOTE_APP_BYTES             0.999992\n",
       " APP_PACKETS                  0.445822\n",
       " DNS_QUERY_TIMES              0.012221\n",
       " Type                         0.011262\n",
       " Name: APP_BYTES, dtype: float64,\n",
       " URL_LENGTH                   0.042264\n",
       " NUMBER_SPECIAL_CHARACTERS    0.040096\n",
       " CONTENT_LENGTH               0.074142\n",
       " TCP_CONVERSATION_EXCHANGE    0.997796\n",
       " DIST_REMOTE_TCP_PORT         0.558612\n",
       " REMOTE_IPS                   0.361104\n",
       " APP_BYTES                    0.445822\n",
       " SOURCE_APP_PACKETS           1.000000\n",
       " REMOTE_APP_PACKETS           0.989285\n",
       " SOURCE_APP_BYTES             0.857495\n",
       " REMOTE_APP_BYTES             0.447448\n",
       " APP_PACKETS                  1.000000\n",
       " DNS_QUERY_TIMES              0.410843\n",
       " Type                         0.034414\n",
       " Name: SOURCE_APP_PACKETS, dtype: float64,\n",
       " URL_LENGTH                   0.033779\n",
       " NUMBER_SPECIAL_CHARACTERS    0.030597\n",
       " CONTENT_LENGTH               0.091077\n",
       " TCP_CONVERSATION_EXCHANGE    0.990848\n",
       " DIST_REMOTE_TCP_PORT         0.591188\n",
       " REMOTE_IPS                   0.304683\n",
       " APP_BYTES                    0.468999\n",
       " SOURCE_APP_PACKETS           0.989285\n",
       " REMOTE_APP_PACKETS           1.000000\n",
       " SOURCE_APP_BYTES             0.880555\n",
       " REMOTE_APP_BYTES             0.470401\n",
       " APP_PACKETS                  0.989285\n",
       " DNS_QUERY_TIMES              0.355716\n",
       " Type                         0.032897\n",
       " Name: REMOTE_APP_PACKETS, dtype: float64,\n",
       " URL_LENGTH                   0.014857\n",
       " NUMBER_SPECIAL_CHARACTERS    0.014376\n",
       " CONTENT_LENGTH               0.100094\n",
       " TCP_CONVERSATION_EXCHANGE    0.865580\n",
       " DIST_REMOTE_TCP_PORT         0.313359\n",
       " REMOTE_IPS                   0.171651\n",
       " APP_BYTES                    0.074464\n",
       " SOURCE_APP_PACKETS           0.857495\n",
       " REMOTE_APP_PACKETS           0.880555\n",
       " SOURCE_APP_BYTES             1.000000\n",
       " REMOTE_APP_BYTES             0.075328\n",
       " APP_PACKETS                  0.857495\n",
       " DNS_QUERY_TIMES              0.215285\n",
       " Type                         0.043852\n",
       " Name: SOURCE_APP_BYTES, dtype: float64,\n",
       " URL_LENGTH                   0.026686\n",
       " NUMBER_SPECIAL_CHARACTERS    0.024098\n",
       " CONTENT_LENGTH               0.047595\n",
       " TCP_CONVERSATION_EXCHANGE    0.458702\n",
       " DIST_REMOTE_TCP_PORT         0.781212\n",
       " REMOTE_IPS                   0.025324\n",
       " APP_BYTES                    0.999992\n",
       " SOURCE_APP_PACKETS           0.447448\n",
       " REMOTE_APP_PACKETS           0.470401\n",
       " SOURCE_APP_BYTES             0.075328\n",
       " REMOTE_APP_BYTES             1.000000\n",
       " APP_PACKETS                  0.447448\n",
       " DNS_QUERY_TIMES              0.016215\n",
       " Type                         0.011004\n",
       " Name: REMOTE_APP_BYTES, dtype: float64,\n",
       " URL_LENGTH                   0.042264\n",
       " NUMBER_SPECIAL_CHARACTERS    0.040096\n",
       " CONTENT_LENGTH               0.074142\n",
       " TCP_CONVERSATION_EXCHANGE    0.997796\n",
       " DIST_REMOTE_TCP_PORT         0.558612\n",
       " REMOTE_IPS                   0.361104\n",
       " APP_BYTES                    0.445822\n",
       " SOURCE_APP_PACKETS           1.000000\n",
       " REMOTE_APP_PACKETS           0.989285\n",
       " SOURCE_APP_BYTES             0.857495\n",
       " REMOTE_APP_BYTES             0.447448\n",
       " APP_PACKETS                  1.000000\n",
       " DNS_QUERY_TIMES              0.410843\n",
       " Type                         0.034414\n",
       " Name: APP_PACKETS, dtype: float64,\n",
       " URL_LENGTH                   0.068582\n",
       " NUMBER_SPECIAL_CHARACTERS    0.050048\n",
       " CONTENT_LENGTH               0.045644\n",
       " TCP_CONVERSATION_EXCHANGE    0.349832\n",
       " DIST_REMOTE_TCP_PORT         0.259942\n",
       " REMOTE_IPS                   0.548189\n",
       " APP_BYTES                    0.012221\n",
       " SOURCE_APP_PACKETS           0.410843\n",
       " REMOTE_APP_PACKETS           0.355716\n",
       " SOURCE_APP_BYTES             0.215285\n",
       " REMOTE_APP_BYTES             0.016215\n",
       " APP_PACKETS                  0.410843\n",
       " DNS_QUERY_TIMES              1.000000\n",
       " Type                         0.068753\n",
       " Name: DNS_QUERY_TIMES, dtype: float64,\n",
       " URL_LENGTH                   0.162104\n",
       " NUMBER_SPECIAL_CHARACTERS    0.280897\n",
       " CONTENT_LENGTH               0.090852\n",
       " TCP_CONVERSATION_EXCHANGE    0.040202\n",
       " DIST_REMOTE_TCP_PORT         0.082925\n",
       " REMOTE_IPS                   0.078783\n",
       " APP_BYTES                    0.011262\n",
       " SOURCE_APP_PACKETS           0.034414\n",
       " REMOTE_APP_PACKETS           0.032897\n",
       " SOURCE_APP_BYTES             0.043852\n",
       " REMOTE_APP_BYTES             0.011004\n",
       " APP_PACKETS                  0.034414\n",
       " DNS_QUERY_TIMES              0.068753\n",
       " Type                         1.000000\n",
       " Name: Type, dtype: float64]"
      ]
     },
     "execution_count": 129,
     "metadata": {},
     "output_type": "execute_result"
    }
   ],
   "source": [
    "no_se_mirar_un_heatmap"
   ]
  },
  {
   "cell_type": "code",
   "execution_count": 182,
   "metadata": {},
   "outputs": [],
   "source": [
    "no_se_mirar = []\n",
    "for i in no_se_mirar_un_heatmap:\n",
    "    if i.item is str >= 0.9:\n",
    "        no_se_mirar.append(no_se_mirar_un_heatmap[i])"
   ]
  },
  {
   "cell_type": "code",
   "execution_count": 183,
   "metadata": {},
   "outputs": [
    {
     "data": {
      "text/plain": [
       "[]"
      ]
     },
     "execution_count": 183,
     "metadata": {},
     "output_type": "execute_result"
    }
   ],
   "source": [
    "no_se_mirar"
   ]
  },
  {
   "cell_type": "code",
   "execution_count": 164,
   "metadata": {
    "scrolled": true
   },
   "outputs": [
    {
     "name": "stdout",
     "output_type": "stream",
     "text": [
      "                           URL_LENGTH  NUMBER_SPECIAL_CHARACTERS  \\\n",
      "URL_LENGTH                   1.000000                   0.917986   \n",
      "NUMBER_SPECIAL_CHARACTERS    0.917986                   1.000000   \n",
      "CONTENT_LENGTH               0.129745                   0.214225   \n",
      "TCP_CONVERSATION_EXCHANGE    0.038407                   0.037459   \n",
      "DIST_REMOTE_TCP_PORT         0.039839                   0.042619   \n",
      "REMOTE_IPS                   0.046367                   0.047103   \n",
      "APP_BYTES                    0.026446                   0.023914   \n",
      "SOURCE_APP_PACKETS           0.042264                   0.040096   \n",
      "REMOTE_APP_PACKETS           0.033779                   0.030597   \n",
      "SOURCE_APP_BYTES             0.014857                   0.014376   \n",
      "REMOTE_APP_BYTES             0.026686                   0.024098   \n",
      "APP_PACKETS                  0.042264                   0.040096   \n",
      "DNS_QUERY_TIMES              0.068582                   0.050048   \n",
      "Type                         0.162104                   0.280897   \n",
      "\n",
      "                           CONTENT_LENGTH  TCP_CONVERSATION_EXCHANGE  \\\n",
      "URL_LENGTH                       0.129745                   0.038407   \n",
      "NUMBER_SPECIAL_CHARACTERS        0.214225                   0.037459   \n",
      "CONTENT_LENGTH                   1.000000                   0.078451   \n",
      "TCP_CONVERSATION_EXCHANGE        0.078451                   1.000000   \n",
      "DIST_REMOTE_TCP_PORT             0.000381                   0.555188   \n",
      "REMOTE_IPS                       0.004774                   0.331080   \n",
      "APP_BYTES                        0.051202                   0.457320   \n",
      "SOURCE_APP_PACKETS               0.074142                   0.997796   \n",
      "REMOTE_APP_PACKETS               0.091077                   0.990848   \n",
      "SOURCE_APP_BYTES                 0.100094                   0.865580   \n",
      "REMOTE_APP_BYTES                 0.047595                   0.458702   \n",
      "APP_PACKETS                      0.074142                   0.997796   \n",
      "DNS_QUERY_TIMES                  0.045644                   0.349832   \n",
      "Type                             0.090852                   0.040202   \n",
      "\n",
      "                           DIST_REMOTE_TCP_PORT  REMOTE_IPS  APP_BYTES  \\\n",
      "URL_LENGTH                             0.039839    0.046367   0.026446   \n",
      "NUMBER_SPECIAL_CHARACTERS              0.042619    0.047103   0.023914   \n",
      "CONTENT_LENGTH                         0.000381    0.004774   0.051202   \n",
      "TCP_CONVERSATION_EXCHANGE              0.555188    0.331080   0.457320   \n",
      "DIST_REMOTE_TCP_PORT                   1.000000    0.210188   0.780238   \n",
      "REMOTE_IPS                             0.210188    1.000000   0.023126   \n",
      "APP_BYTES                              0.780238    0.023126   1.000000   \n",
      "SOURCE_APP_PACKETS                     0.558612    0.361104   0.445822   \n",
      "REMOTE_APP_PACKETS                     0.591188    0.304683   0.468999   \n",
      "SOURCE_APP_BYTES                       0.313359    0.171651   0.074464   \n",
      "REMOTE_APP_BYTES                       0.781212    0.025324   0.999992   \n",
      "APP_PACKETS                            0.558612    0.361104   0.445822   \n",
      "DNS_QUERY_TIMES                        0.259942    0.548189   0.012221   \n",
      "Type                                   0.082925    0.078783   0.011262   \n",
      "\n",
      "                           SOURCE_APP_PACKETS  REMOTE_APP_PACKETS  \\\n",
      "URL_LENGTH                           0.042264            0.033779   \n",
      "NUMBER_SPECIAL_CHARACTERS            0.040096            0.030597   \n",
      "CONTENT_LENGTH                       0.074142            0.091077   \n",
      "TCP_CONVERSATION_EXCHANGE            0.997796            0.990848   \n",
      "DIST_REMOTE_TCP_PORT                 0.558612            0.591188   \n",
      "REMOTE_IPS                           0.361104            0.304683   \n",
      "APP_BYTES                            0.445822            0.468999   \n",
      "SOURCE_APP_PACKETS                   1.000000            0.989285   \n",
      "REMOTE_APP_PACKETS                   0.989285            1.000000   \n",
      "SOURCE_APP_BYTES                     0.857495            0.880555   \n",
      "REMOTE_APP_BYTES                     0.447448            0.470401   \n",
      "APP_PACKETS                          1.000000            0.989285   \n",
      "DNS_QUERY_TIMES                      0.410843            0.355716   \n",
      "Type                                 0.034414            0.032897   \n",
      "\n",
      "                           SOURCE_APP_BYTES  REMOTE_APP_BYTES  APP_PACKETS  \\\n",
      "URL_LENGTH                         0.014857          0.026686     0.042264   \n",
      "NUMBER_SPECIAL_CHARACTERS          0.014376          0.024098     0.040096   \n",
      "CONTENT_LENGTH                     0.100094          0.047595     0.074142   \n",
      "TCP_CONVERSATION_EXCHANGE          0.865580          0.458702     0.997796   \n",
      "DIST_REMOTE_TCP_PORT               0.313359          0.781212     0.558612   \n",
      "REMOTE_IPS                         0.171651          0.025324     0.361104   \n",
      "APP_BYTES                          0.074464          0.999992     0.445822   \n",
      "SOURCE_APP_PACKETS                 0.857495          0.447448     1.000000   \n",
      "REMOTE_APP_PACKETS                 0.880555          0.470401     0.989285   \n",
      "SOURCE_APP_BYTES                   1.000000          0.075328     0.857495   \n",
      "REMOTE_APP_BYTES                   0.075328          1.000000     0.447448   \n",
      "APP_PACKETS                        0.857495          0.447448     1.000000   \n",
      "DNS_QUERY_TIMES                    0.215285          0.016215     0.410843   \n",
      "Type                               0.043852          0.011004     0.034414   \n",
      "\n",
      "                           DNS_QUERY_TIMES      Type  \n",
      "URL_LENGTH                        0.068582  0.162104  \n",
      "NUMBER_SPECIAL_CHARACTERS         0.050048  0.280897  \n",
      "CONTENT_LENGTH                    0.045644  0.090852  \n",
      "TCP_CONVERSATION_EXCHANGE         0.349832  0.040202  \n",
      "DIST_REMOTE_TCP_PORT              0.259942  0.082925  \n",
      "REMOTE_IPS                        0.548189  0.078783  \n",
      "APP_BYTES                         0.012221  0.011262  \n",
      "SOURCE_APP_PACKETS                0.410843  0.034414  \n",
      "REMOTE_APP_PACKETS                0.355716  0.032897  \n",
      "SOURCE_APP_BYTES                  0.215285  0.043852  \n",
      "REMOTE_APP_BYTES                  0.016215  0.011004  \n",
      "APP_PACKETS                       0.410843  0.034414  \n",
      "DNS_QUERY_TIMES                   1.000000  0.068753  \n",
      "Type                              0.068753  1.000000  \n"
     ]
    }
   ],
   "source": [
    "print(websites.corr().abs())\n",
    "# usa map o filter y consigue las correlaciones mas altas"
   ]
  },
  {
   "cell_type": "markdown",
   "metadata": {},
   "source": [
    "# Challenge 2 - Remove Column Collinearity.\n",
    "\n",
    "From the heatmap you created, you should have seen at least 3 columns that can be removed due to high collinearity. Remove these columns from the dataset.\n",
    "\n",
    "Note that you should remove as few columns as you can. You don't have to remove all the columns at once. But instead, try removing one column, then produce the heatmap again to determine if additional columns should be removed. As long as the dataset no longer contains columns that are correlated for over 90%, you can stop. Also, keep in mind when two columns have high collinearity, you only need to remove one of them but not both.\n",
    "\n",
    "In the cells below, remove as few columns as you can to eliminate the high collinearity in the dataset. Make sure to comment on your way so that the instructional team can learn about your thinking process which allows them to give feedback. At the end, print the heatmap again."
   ]
  },
  {
   "cell_type": "code",
   "execution_count": null,
   "metadata": {},
   "outputs": [],
   "source": [
    "high_collinearity_cols = []\n"
   ]
  },
  {
   "cell_type": "code",
   "execution_count": null,
   "metadata": {},
   "outputs": [],
   "source": [
    "# Your comment here"
   ]
  },
  {
   "cell_type": "code",
   "execution_count": null,
   "metadata": {},
   "outputs": [],
   "source": [
    "# Print heatmap again\n"
   ]
  },
  {
   "cell_type": "markdown",
   "metadata": {},
   "source": [
    "# Challenge 3 - Handle Missing Values\n",
    "\n",
    "The next step would be handling missing values. **We start by examining the number of missing values in each column, which you will do in the next cell.**"
   ]
  },
  {
   "cell_type": "code",
   "execution_count": null,
   "metadata": {},
   "outputs": [],
   "source": [
    "# Your code here\n"
   ]
  },
  {
   "cell_type": "markdown",
   "metadata": {},
   "source": [
    "If you remember in the previous labs, we drop a column if the column contains a high proportion of missing values. After dropping those problematic columns, we drop the rows with missing values.\n",
    "\n",
    "#### In the cells below, handle the missing values from the dataset. Remember to comment the rationale of your decisions."
   ]
  },
  {
   "cell_type": "code",
   "execution_count": null,
   "metadata": {},
   "outputs": [],
   "source": [
    "# Your code here\n"
   ]
  },
  {
   "cell_type": "code",
   "execution_count": null,
   "metadata": {},
   "outputs": [],
   "source": [
    "# Your comment here"
   ]
  },
  {
   "cell_type": "markdown",
   "metadata": {},
   "source": [
    "#### Again, examine the number of missing values in each column. \n",
    "\n",
    "If all cleaned, proceed. Otherwise, go back and do more cleaning."
   ]
  },
  {
   "cell_type": "code",
   "execution_count": null,
   "metadata": {},
   "outputs": [],
   "source": [
    "# Examine missing values in each column\n"
   ]
  },
  {
   "cell_type": "markdown",
   "metadata": {},
   "source": [
    "# Challenge 4 - Handle `WHOIS_*` Categorical Data"
   ]
  },
  {
   "cell_type": "markdown",
   "metadata": {},
   "source": [
    "There are several categorical columns we need to handle. These columns are:\n",
    "\n",
    "* `URL`\n",
    "* `CHARSET`\n",
    "* `SERVER`\n",
    "* `WHOIS_COUNTRY`\n",
    "* `WHOIS_STATEPRO`\n",
    "* `WHOIS_REGDATE`\n",
    "* `WHOIS_UPDATED_DATE`\n",
    "\n",
    "How to handle string columns is always case by case. Let's start by working on `WHOIS_COUNTRY`. Your steps are:\n",
    "\n",
    "1. List out the unique values of `WHOIS_COUNTRY`.\n",
    "1. Consolidate the country values with consistent country codes. For example, the following values refer to the same country and should use consistent country code:\n",
    "    * `CY` and `Cyprus`\n",
    "    * `US` and `us`\n",
    "    * `SE` and `se`\n",
    "    * `GB`, `United Kingdom`, and `[u'GB'; u'UK']`\n",
    "\n",
    "#### In the cells below, fix the country values as intructed above."
   ]
  },
  {
   "cell_type": "code",
   "execution_count": null,
   "metadata": {},
   "outputs": [],
   "source": [
    "# Your code here\n"
   ]
  },
  {
   "cell_type": "markdown",
   "metadata": {},
   "source": [
    "Since we have fixed the country values, can we convert this column to ordinal now?\n",
    "\n",
    "Not yet. If you reflect on the previous labs how we handle categorical columns, you probably remember we ended up dropping a lot of those columns because there are too many unique values. Too many unique values in a column is not desirable in machine learning because it makes prediction inaccurate. But there are workarounds under certain conditions. One of the fixable conditions is:\n",
    "\n",
    "#### If a limited number of values account for the majority of data, we can retain these top values and re-label all other rare values.\n",
    "\n",
    "The `WHOIS_COUNTRY` column happens to be this case. You can verify it by print a bar chart of the `value_counts` in the next cell to verify:"
   ]
  },
  {
   "cell_type": "code",
   "execution_count": null,
   "metadata": {},
   "outputs": [],
   "source": [
    "# Your code here\n"
   ]
  },
  {
   "cell_type": "markdown",
   "metadata": {},
   "source": [
    "#### After verifying, now let's keep the top 10 values of the column and re-label other columns with `OTHER`."
   ]
  },
  {
   "cell_type": "code",
   "execution_count": null,
   "metadata": {
    "scrolled": true
   },
   "outputs": [],
   "source": [
    "# Your code here\n"
   ]
  },
  {
   "cell_type": "markdown",
   "metadata": {},
   "source": [
    "Now since `WHOIS_COUNTRY` has been re-labelled, we don't need `WHOIS_STATEPRO` any more because the values of the states or provinces may not be relevant any more. We'll drop this column.\n",
    "\n",
    "In addition, we will also drop `WHOIS_REGDATE` and `WHOIS_UPDATED_DATE`. These are the registration and update dates of the website domains. Not of our concerns.\n",
    "\n",
    "#### In the next cell, drop `['WHOIS_STATEPRO', 'WHOIS_REGDATE', 'WHOIS_UPDATED_DATE']`."
   ]
  },
  {
   "cell_type": "code",
   "execution_count": null,
   "metadata": {},
   "outputs": [],
   "source": [
    "# Your code here\n"
   ]
  },
  {
   "cell_type": "markdown",
   "metadata": {},
   "source": [
    "# Challenge 5 - Handle Remaining Categorical Data & Convert to Ordinal\n",
    "\n",
    "Now print the `dtypes` of the data again. Besides `WHOIS_COUNTRY` which we already fixed, there should be 3 categorical columns left: `URL`, `CHARSET`, and `SERVER`."
   ]
  },
  {
   "cell_type": "code",
   "execution_count": null,
   "metadata": {},
   "outputs": [],
   "source": [
    "# Your code here\n"
   ]
  },
  {
   "cell_type": "markdown",
   "metadata": {},
   "source": [
    "#### `URL` is easy. We'll simply drop it because it has too many unique values that there's no way for us to consolidate."
   ]
  },
  {
   "cell_type": "code",
   "execution_count": null,
   "metadata": {},
   "outputs": [],
   "source": [
    "# Your code here\n"
   ]
  },
  {
   "cell_type": "markdown",
   "metadata": {},
   "source": [
    "#### Print the unique value counts of `CHARSET`. You see there are only a few unique values. So we can keep it as it is."
   ]
  },
  {
   "cell_type": "code",
   "execution_count": null,
   "metadata": {},
   "outputs": [],
   "source": [
    "# Your code here"
   ]
  },
  {
   "cell_type": "markdown",
   "metadata": {},
   "source": [
    "`SERVER` is a little more complicated. Print its unique values and think about how you can consolidate those values.\n",
    "\n",
    "#### Before you think of your own solution, don't read the instructions that come next."
   ]
  },
  {
   "cell_type": "code",
   "execution_count": null,
   "metadata": {},
   "outputs": [],
   "source": [
    "# Your code here\n"
   ]
  },
  {
   "cell_type": "markdown",
   "metadata": {},
   "source": [
    "![Think Hard](../think-hard.jpg)"
   ]
  },
  {
   "cell_type": "code",
   "execution_count": null,
   "metadata": {},
   "outputs": [],
   "source": [
    "# Your comment here\n"
   ]
  },
  {
   "cell_type": "markdown",
   "metadata": {},
   "source": [
    "Although there are so many unique values in the `SERVER` column, there are actually only 3 main server types: `Microsoft`, `Apache`, and `nginx`. Just check if each `SERVER` value contains any of those server types and re-label them. For `SERVER` values that don't contain any of those substrings, label with `Other`.\n",
    "\n",
    "At the end, your `SERVER` column should only contain 4 unique values: `Microsoft`, `Apache`, `nginx`, and `Other`."
   ]
  },
  {
   "cell_type": "code",
   "execution_count": null,
   "metadata": {},
   "outputs": [],
   "source": [
    "# Your code here\n"
   ]
  },
  {
   "cell_type": "code",
   "execution_count": null,
   "metadata": {
    "scrolled": false
   },
   "outputs": [],
   "source": [
    "# Count `SERVER` value counts here\n"
   ]
  },
  {
   "cell_type": "markdown",
   "metadata": {},
   "source": [
    "OK, all our categorical data are fixed now. **Let's convert them to ordinal data using Pandas' `get_dummies` function ([documentation](https://pandas.pydata.org/pandas-docs/stable/generated/pandas.get_dummies.html)).** Make sure you drop the categorical columns by passing `drop_first=True` to `get_dummies` as we don't need them any more. **Also, assign the data with dummy values to a new variable `website_dummy`.**"
   ]
  },
  {
   "cell_type": "code",
   "execution_count": null,
   "metadata": {},
   "outputs": [],
   "source": [
    "# Your code here\n"
   ]
  },
  {
   "cell_type": "markdown",
   "metadata": {},
   "source": [
    "Now, inspect `website_dummy` to make sure the data and types are intended - there shouldn't be any categorical columns at this point."
   ]
  },
  {
   "cell_type": "code",
   "execution_count": null,
   "metadata": {},
   "outputs": [],
   "source": [
    "# Your code here\n"
   ]
  },
  {
   "cell_type": "markdown",
   "metadata": {},
   "source": [
    "# Challenge 6 - Modeling, Prediction, and Evaluation\n",
    "\n",
    "We'll start off this section by splitting the data to train and test. **Name your 4 variables `X_train`, `X_test`, `y_train`, and `y_test`. Select 80% of the data for training and 20% for testing.**"
   ]
  },
  {
   "cell_type": "code",
   "execution_count": null,
   "metadata": {},
   "outputs": [],
   "source": [
    "from sklearn.model_selection import train_test_split\n",
    "\n",
    "# Your code here:\n"
   ]
  },
  {
   "cell_type": "markdown",
   "metadata": {},
   "source": [
    "#### In this lab, we will try two different models and compare our results.\n",
    "\n",
    "The first model we will use in this lab is logistic regression. We have previously learned about logistic regression as a classification algorithm. In the cell below, load `LogisticRegression` from scikit-learn and initialize the model."
   ]
  },
  {
   "cell_type": "code",
   "execution_count": 1,
   "metadata": {},
   "outputs": [],
   "source": [
    "# Your code here:\n",
    "\n"
   ]
  },
  {
   "cell_type": "markdown",
   "metadata": {},
   "source": [
    "Next, fit the model to our training data. We have already separated our data into 4 parts. Use those in your model."
   ]
  },
  {
   "cell_type": "code",
   "execution_count": 2,
   "metadata": {},
   "outputs": [],
   "source": [
    "# Your code here:\n",
    "\n"
   ]
  },
  {
   "cell_type": "markdown",
   "metadata": {},
   "source": [
    "finally, import `confusion_matrix` and `accuracy_score` from `sklearn.metrics` and fit our testing data. Assign the fitted data to `y_pred` and print the confusion matrix as well as the accuracy score"
   ]
  },
  {
   "cell_type": "code",
   "execution_count": 3,
   "metadata": {},
   "outputs": [],
   "source": [
    "# Your code here:\n",
    "\n"
   ]
  },
  {
   "cell_type": "markdown",
   "metadata": {},
   "source": [
    "What are your thoughts on the performance of the model? Write your conclusions below."
   ]
  },
  {
   "cell_type": "code",
   "execution_count": 4,
   "metadata": {},
   "outputs": [],
   "source": [
    "# Your conclusions here:\n",
    "\n"
   ]
  },
  {
   "cell_type": "markdown",
   "metadata": {},
   "source": [
    "#### Our second algorithm is is DecisionTreeClassifier\n",
    "\n",
    "Though is it not required, we will fit a model using the training data and then test the performance of the model using the testing data. Start by loading `DecisionTreeClassifier` from scikit-learn and then initializing and fitting the model. We'll start off with a model where max_depth=3"
   ]
  },
  {
   "cell_type": "code",
   "execution_count": 5,
   "metadata": {},
   "outputs": [],
   "source": [
    "# Your code here:\n",
    "\n"
   ]
  },
  {
   "cell_type": "markdown",
   "metadata": {},
   "source": [
    "To test your model, compute the predicted probabilities, decide 0 or 1 using a threshold of 0.5 and print the confusion matrix as well as the accuracy score (on the test set!)"
   ]
  },
  {
   "cell_type": "code",
   "execution_count": 6,
   "metadata": {},
   "outputs": [],
   "source": [
    "# Your code here:\n",
    "\n"
   ]
  },
  {
   "cell_type": "markdown",
   "metadata": {},
   "source": [
    "#### We'll create another DecisionTreeClassifier model with max_depth=5. \n",
    "Initialize and fit the model below and print the confusion matrix and the accuracy score."
   ]
  },
  {
   "cell_type": "code",
   "execution_count": 7,
   "metadata": {},
   "outputs": [],
   "source": [
    "# Your code here:\n",
    "\n"
   ]
  },
  {
   "cell_type": "markdown",
   "metadata": {},
   "source": [
    "Did you see an improvement in the confusion matrix when increasing max_depth to 5? Did you see an improvement in the accuracy score? Write your conclusions below."
   ]
  },
  {
   "cell_type": "code",
   "execution_count": 8,
   "metadata": {},
   "outputs": [],
   "source": [
    "# Your conclusions here:\n",
    "\n"
   ]
  },
  {
   "cell_type": "markdown",
   "metadata": {},
   "source": [
    "# Bonus Challenge - Feature Scaling\n",
    "\n",
    "Problem-solving in machine learning is iterative. You can improve your model prediction with various techniques (there is a sweetspot for the time you spend and the improvement you receive though). Now you've completed only one iteration of ML analysis. There are more iterations you can conduct to make improvements. In order to be able to do that, you will need deeper knowledge in statistics and master more data analysis techniques. In this bootcamp, we don't have time to achieve that advanced goal. But you will make constant efforts after the bootcamp to eventually get there.\n",
    "\n",
    "However, now we do want you to learn one of the advanced techniques which is called *feature scaling*. The idea of feature scaling is to standardize/normalize the range of independent variables or features of the data. This can make the outliers more apparent so that you can remove them. This step needs to happen during Challenge 6 after you split the training and test data because you don't want to split the data again which makes it impossible to compare your results with and without feature scaling. For general concepts about feature scaling, click [here](https://en.wikipedia.org/wiki/Feature_scaling). To read deeper, click [here](https://medium.com/greyatom/why-how-and-when-to-scale-your-features-4b30ab09db5e).\n",
    "\n",
    "In the next cell, attempt to improve your model prediction accuracy by means of feature scaling. A library you can utilize is `sklearn.preprocessing.RobustScaler` ([documentation](https://scikit-learn.org/stable/modules/generated/sklearn.preprocessing.RobustScaler.html)). You'll use the `RobustScaler` to fit and transform your `X_train`, then transform `X_test`. You will use logistic regression to fit and predict your transformed data and obtain the accuracy score in the same way. Compare the accuracy score with your normalized data with the previous accuracy data. Is there an improvement?"
   ]
  },
  {
   "cell_type": "code",
   "execution_count": null,
   "metadata": {},
   "outputs": [],
   "source": [
    "# Your code here"
   ]
  }
 ],
 "metadata": {
  "kernelspec": {
   "display_name": "Python 3",
   "language": "python",
   "name": "python3"
  },
  "language_info": {
   "codemirror_mode": {
    "name": "ipython",
    "version": 3
   },
   "file_extension": ".py",
   "mimetype": "text/x-python",
   "name": "python",
   "nbconvert_exporter": "python",
   "pygments_lexer": "ipython3",
   "version": "3.9.1"
  },
  "varInspector": {
   "cols": {
    "lenName": 16,
    "lenType": 16,
    "lenVar": 40
   },
   "kernels_config": {
    "python": {
     "delete_cmd_postfix": "",
     "delete_cmd_prefix": "del ",
     "library": "var_list.py",
     "varRefreshCmd": "print(var_dic_list())"
    },
    "r": {
     "delete_cmd_postfix": ") ",
     "delete_cmd_prefix": "rm(",
     "library": "var_list.r",
     "varRefreshCmd": "cat(var_dic_list()) "
    }
   },
   "types_to_exclude": [
    "module",
    "function",
    "builtin_function_or_method",
    "instance",
    "_Feature"
   ],
   "window_display": false
  }
 },
 "nbformat": 4,
 "nbformat_minor": 2
}
